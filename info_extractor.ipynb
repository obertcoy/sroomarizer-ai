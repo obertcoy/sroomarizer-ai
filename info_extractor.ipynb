{
 "cells": [
  {
   "cell_type": "code",
   "execution_count": 1,
   "metadata": {},
   "outputs": [],
   "source": [
    "import os\n",
    "import json\n",
    "import spacy\n",
    "import torch\n",
    "\n",
    "import re\n",
    "from typing import *\n",
    "import constants"
   ]
  },
  {
   "cell_type": "code",
   "execution_count": 2,
   "metadata": {},
   "outputs": [],
   "source": [
    "def count_words(line: str) -> int:\n",
    "    \"\"\"\n",
    "    Counts the number of words in a line.\n",
    "    :param line: line to count\n",
    "    :return count: number of words\n",
    "    \"\"\"\n",
    "    words = line.split()\n",
    "    return len(words)"
   ]
  },
  {
   "cell_type": "code",
   "execution_count": 3,
   "metadata": {},
   "outputs": [],
   "source": [
    "class InformationExtractor:\n",
    "    \n",
    "    @staticmethod\n",
    "    def extract_categories(text) -> Dict[str, List[Tuple[int, int]]]:\n",
    "        \n",
    "        data = DefaultDict(list)\n",
    "        line_count = 0\n",
    "        prev_count = 0\n",
    "        prev_line = None\n",
    "        prev_category = None\n",
    "        \n",
    "        for line in text.split('\\n'):\n",
    "            line = re.sub(r\"\\s+?\", \" \", line).strip()\n",
    "\n",
    "            for (category, word_list) in constants.CATEGORIES_LIST.items():\n",
    "                \n",
    "                for word in word_list:\n",
    "                    \n",
    "                    if count_words(line) < 10:\n",
    "                        \n",
    "                        match = re.findall(word, line)\n",
    "                        \n",
    "                        if match:\n",
    "                            size = line_count - prev_count\n",
    "                            \n",
    "                            if prev_category is not None:\n",
    "                                data[prev_category].append((size, prev_count, prev_line))\n",
    "                                \n",
    "                            prev_count = line_count\n",
    "                            prev_category = category\n",
    "                            prev_line = line\n",
    "            \n",
    "            line_count += 1\n",
    "            \n",
    "        \n",
    "        if prev_category is not None:\n",
    "            size = line_count - prev_count\n",
    "            data[prev_category].append((size, prev_count, prev_line))\n",
    "            \n",
    "        \n",
    "        for category in data:\n",
    "            \n",
    "            if len(data[category]) >= 2:\n",
    "                data[category] = [max(data[category], key= lambda x : x[0])]\n",
    "                \n",
    "        return data\n",
    "    \n",
    "    \n",
    "    @staticmethod\n",
    "   \n",
    "    \n",
    "    @staticmethod\n",
    "    def extract_experience(text):\n",
    "        \n",
    "        experience_sentences = []\n",
    "        \n",
    "        pattern = constants.CATEGORIES_PATTERN[\"EXPERIENCE\"]\n",
    "        \n",
    "        doc = nlp(text)\n",
    "        \n",
    "        for sent in doc.sents:\n",
    "            if re.search(pattern, sent.text, re.IGNORECASE):\n",
    "                experience_sentences.append(sent.text.strip())\n",
    "        \n",
    "        return experience_sentences"
   ]
  },
  {
   "cell_type": "code",
   "execution_count": 4,
   "metadata": {},
   "outputs": [
    {
     "ename": "AttributeError",
     "evalue": "module 'constants' has no attribute 'CATEGORIES_LIST'",
     "output_type": "error",
     "traceback": [
      "\u001b[1;31m---------------------------------------------------------------------------\u001b[0m",
      "\u001b[1;31mAttributeError\u001b[0m                            Traceback (most recent call last)",
      "Cell \u001b[1;32mIn[4], line 1\u001b[0m\n\u001b[1;32m----> 1\u001b[0m categories \u001b[38;5;241m=\u001b[39m \u001b[43mInformationExtractor\u001b[49m\u001b[38;5;241;43m.\u001b[39;49m\u001b[43mextract_categories\u001b[49m\u001b[43m(\u001b[49m\u001b[43mconstants\u001b[49m\u001b[38;5;241;43m.\u001b[39;49m\u001b[43mTEST_TEXT\u001b[49m\u001b[43m)\u001b[49m\n\u001b[0;32m      3\u001b[0m categories\n",
      "Cell \u001b[1;32mIn[3], line 15\u001b[0m, in \u001b[0;36mInformationExtractor.extract_categories\u001b[1;34m(text)\u001b[0m\n\u001b[0;32m     12\u001b[0m \u001b[38;5;28;01mfor\u001b[39;00m line \u001b[38;5;129;01min\u001b[39;00m text\u001b[38;5;241m.\u001b[39msplit(\u001b[38;5;124m'\u001b[39m\u001b[38;5;130;01m\\n\u001b[39;00m\u001b[38;5;124m'\u001b[39m):\n\u001b[0;32m     13\u001b[0m     line \u001b[38;5;241m=\u001b[39m re\u001b[38;5;241m.\u001b[39msub(\u001b[38;5;124mr\u001b[39m\u001b[38;5;124m\"\u001b[39m\u001b[38;5;124m\\\u001b[39m\u001b[38;5;124ms+?\u001b[39m\u001b[38;5;124m\"\u001b[39m, \u001b[38;5;124m\"\u001b[39m\u001b[38;5;124m \u001b[39m\u001b[38;5;124m\"\u001b[39m, line)\u001b[38;5;241m.\u001b[39mstrip()\n\u001b[1;32m---> 15\u001b[0m     \u001b[38;5;28;01mfor\u001b[39;00m (category, word_list) \u001b[38;5;129;01min\u001b[39;00m \u001b[43mconstants\u001b[49m\u001b[38;5;241;43m.\u001b[39;49m\u001b[43mCATEGORIES_LIST\u001b[49m\u001b[38;5;241m.\u001b[39mitems():\n\u001b[0;32m     17\u001b[0m         \u001b[38;5;28;01mfor\u001b[39;00m word \u001b[38;5;129;01min\u001b[39;00m word_list:\n\u001b[0;32m     19\u001b[0m             \u001b[38;5;28;01mif\u001b[39;00m count_words(line) \u001b[38;5;241m<\u001b[39m \u001b[38;5;241m10\u001b[39m:\n",
      "\u001b[1;31mAttributeError\u001b[0m: module 'constants' has no attribute 'CATEGORIES_LIST'"
     ]
    }
   ],
   "source": [
    "categories = InformationExtractor.extract_categories(constants.TEST_TEXT)\n",
    "\n",
    "categories"
   ]
  },
  {
   "cell_type": "code",
   "execution_count": null,
   "metadata": {},
   "outputs": [
    {
     "name": "stdout",
     "output_type": "stream",
     "text": [
      "[\"master's degree in Data Science\"]\n"
     ]
    }
   ],
   "source": [
    "import re\n",
    "from typing import Dict, List, Tuple\n",
    "from collections import defaultdict\n",
    "\n",
    "# Sample CATEGORIES_LIST with regex patterns\n",
    "CATEGORIES_LIST = {\n",
    "    \"EXPERIENCE\": [\n",
    "        r\"\\b(create|participate|develop|lead|manage|implement|coordinate|analyze|design|oversee|improve|collaborate|achieve|increase|decrease|reduce|enhance|optimize|maintain|support|train|mentor|supervise|negotiate|present|research|execute|plan|organize|launch|initiate|establish|conduct|evaluate|troubleshoot|resolve|streamline|automate|innovate|pioneer)\\w*\\b\"\n",
    "    ],\n",
    "    \"EDUCATION\": [\n",
    "        r\"\\b(bachelor|master|degree|phd|doctorate|diploma|certificate|certification|graduate|undergraduate|study|major|minor|thesis|dissertation|coursework|gpa|honors|academic)\\w*\\b\",\n",
    "    ],\n",
    "}\n",
    "\n",
    "\n",
    "\n",
    "# Example usage\n",
    "text = \"\"\"Michael Smith has a degree in Computer Science and a master's degree in Data Science.\n",
    "He has experience in leading and managing projects, as well as conducting research and developing software.\"\"\"\n",
    "\n",
    "categories = extract_education_from_resume(text)\n",
    "print(categories)\n"
   ]
  }
 ],
 "metadata": {
  "kernelspec": {
   "display_name": "SROOMARIZER",
   "language": "python",
   "name": "python3"
  },
  "language_info": {
   "codemirror_mode": {
    "name": "ipython",
    "version": 3
   },
   "file_extension": ".py",
   "mimetype": "text/x-python",
   "name": "python",
   "nbconvert_exporter": "python",
   "pygments_lexer": "ipython3",
   "version": "3.10.9"
  }
 },
 "nbformat": 4,
 "nbformat_minor": 2
}
