{
 "cells": [
  {
   "cell_type": "code",
   "execution_count": 1,
   "metadata": {},
   "outputs": [],
   "source": [
    "import pandas as pd\n",
    "import numpy as np\n",
    "import re\n",
    "import spacy\n",
    "import spacy_annotator as spa"
   ]
  },
  {
   "cell_type": "code",
   "execution_count": 2,
   "metadata": {},
   "outputs": [
    {
     "data": {
      "text/html": [
       "<div>\n",
       "<style scoped>\n",
       "    .dataframe tbody tr th:only-of-type {\n",
       "        vertical-align: middle;\n",
       "    }\n",
       "\n",
       "    .dataframe tbody tr th {\n",
       "        vertical-align: top;\n",
       "    }\n",
       "\n",
       "    .dataframe thead th {\n",
       "        text-align: right;\n",
       "    }\n",
       "</style>\n",
       "<table border=\"1\" class=\"dataframe\">\n",
       "  <thead>\n",
       "    <tr style=\"text-align: right;\">\n",
       "      <th></th>\n",
       "      <th>ID</th>\n",
       "      <th>Resume_str</th>\n",
       "      <th>Resume_html</th>\n",
       "      <th>Category</th>\n",
       "    </tr>\n",
       "  </thead>\n",
       "  <tbody>\n",
       "    <tr>\n",
       "      <th>0</th>\n",
       "      <td>16852973</td>\n",
       "      <td>HR ADMINISTRATOR/MARKETING ASSOCIATE\\...</td>\n",
       "      <td>&lt;div class=\"fontsize fontface vmargins hmargin...</td>\n",
       "      <td>HR</td>\n",
       "    </tr>\n",
       "    <tr>\n",
       "      <th>1</th>\n",
       "      <td>22323967</td>\n",
       "      <td>HR SPECIALIST, US HR OPERATIONS      ...</td>\n",
       "      <td>&lt;div class=\"fontsize fontface vmargins hmargin...</td>\n",
       "      <td>HR</td>\n",
       "    </tr>\n",
       "    <tr>\n",
       "      <th>2</th>\n",
       "      <td>33176873</td>\n",
       "      <td>HR DIRECTOR       Summary      Over 2...</td>\n",
       "      <td>&lt;div class=\"fontsize fontface vmargins hmargin...</td>\n",
       "      <td>HR</td>\n",
       "    </tr>\n",
       "    <tr>\n",
       "      <th>3</th>\n",
       "      <td>27018550</td>\n",
       "      <td>HR SPECIALIST       Summary    Dedica...</td>\n",
       "      <td>&lt;div class=\"fontsize fontface vmargins hmargin...</td>\n",
       "      <td>HR</td>\n",
       "    </tr>\n",
       "    <tr>\n",
       "      <th>4</th>\n",
       "      <td>17812897</td>\n",
       "      <td>HR MANAGER         Skill Highlights  ...</td>\n",
       "      <td>&lt;div class=\"fontsize fontface vmargins hmargin...</td>\n",
       "      <td>HR</td>\n",
       "    </tr>\n",
       "  </tbody>\n",
       "</table>\n",
       "</div>"
      ],
      "text/plain": [
       "         ID                                         Resume_str  \\\n",
       "0  16852973           HR ADMINISTRATOR/MARKETING ASSOCIATE\\...   \n",
       "1  22323967           HR SPECIALIST, US HR OPERATIONS      ...   \n",
       "2  33176873           HR DIRECTOR       Summary      Over 2...   \n",
       "3  27018550           HR SPECIALIST       Summary    Dedica...   \n",
       "4  17812897           HR MANAGER         Skill Highlights  ...   \n",
       "\n",
       "                                         Resume_html Category  \n",
       "0  <div class=\"fontsize fontface vmargins hmargin...       HR  \n",
       "1  <div class=\"fontsize fontface vmargins hmargin...       HR  \n",
       "2  <div class=\"fontsize fontface vmargins hmargin...       HR  \n",
       "3  <div class=\"fontsize fontface vmargins hmargin...       HR  \n",
       "4  <div class=\"fontsize fontface vmargins hmargin...       HR  "
      ]
     },
     "execution_count": 2,
     "metadata": {},
     "output_type": "execute_result"
    }
   ],
   "source": [
    "PATH = './Resume.csv'\n",
    "\n",
    "df = pd.read_csv(PATH)\n",
    "\n",
    "df.head()"
   ]
  },
  {
   "cell_type": "code",
   "execution_count": 3,
   "metadata": {},
   "outputs": [
    {
     "data": {
      "text/plain": [
       "(2484, 4)"
      ]
     },
     "execution_count": 3,
     "metadata": {},
     "output_type": "execute_result"
    }
   ],
   "source": [
    "df.shape"
   ]
  },
  {
   "cell_type": "code",
   "execution_count": 4,
   "metadata": {},
   "outputs": [
    {
     "data": {
      "text/plain": [
       "array([ 634,  955, 1871, 2465, 2261,  546,  262, 1682, 1034, 2021, 1587,\n",
       "        344, 1729, 2148, 1719, 1151,  953, 1177,  144,  962,  403,  117,\n",
       "        857, 1691, 2107])"
      ]
     },
     "execution_count": 4,
     "metadata": {},
     "output_type": "execute_result"
    }
   ],
   "source": [
    "n_train_samples = 75\n",
    "n_val_samples = 25\n",
    "\n",
    "total_samples = n_train_samples + n_val_samples\n",
    "\n",
    "random_idxs = np.random.choice(df.shape[0], total_samples, replace=False)\n",
    "\n",
    "random_train_idxs = random_idxs[:n_train_samples]\n",
    "random_val_idxs = random_idxs[n_train_samples:]\n",
    "\n",
    "random_val_idxs"
   ]
  },
  {
   "cell_type": "code",
   "execution_count": 5,
   "metadata": {},
   "outputs": [],
   "source": [
    "def remove_excess_spaces(text):\n",
    "         \n",
    "   text = re.sub(r'\\s+', ' ', text).strip()\n",
    "\n",
    "   return text\n",
    "            "
   ]
  },
  {
   "cell_type": "code",
   "execution_count": 15,
   "metadata": {},
   "outputs": [],
   "source": [
    "resumes = df['Resume_str'].apply(remove_excess_spaces)\n",
    "\n",
    "resumes_train = resumes[:2].tolist()\n",
    "\n",
    "resumes_train = pd.DataFrame({\n",
    "    'text': resumes_train\n",
    "})"
   ]
  },
  {
   "cell_type": "code",
   "execution_count": 14,
   "metadata": {},
   "outputs": [
    {
     "data": {
      "text/plain": [
       "[\"HR ADMINISTRATOR/MARKETING ASSOCIATE HR ADMINISTRATOR Summary Dedicated Customer Service Manager with 15+ years of experience in Hospitality and Customer Service Management. Respected builder and leader of customer-focused teams; strives to instill a shared, enthusiastic commitment to customer service. Highlights Focused on customer satisfaction Team management Marketing savvy Conflict resolution techniques Training and development Skilled multi-tasker Client relations specialist Accomplishments Missouri DOT Supervisor Training Certification Certified by IHG in Customer Loyalty and Marketing by Segment Hilton Worldwide General Manager Training Certification Accomplished Trainer for cross server hospitality systems such as Hilton OnQ , Micros Opera PMS , Fidelio OPERA Reservation System (ORS) , Holidex Completed courses and seminars in customer service, sales strategies, inventory control, loss prevention, safety, time management, leadership and performance assessment. Experience HR Administrator/Marketing Associate HR Administrator Dec 2013 to Current Company Name － City , State Helps to develop policies, directs and coordinates activities such as employment, compensation, labor relations, benefits, training, and employee services. Prepares employee separation notices and related documentation Keeps records of benefits plans participation such as insurance and pension plan, personnel transactions such as hires, promotions, transfers, performance reviews, and terminations, and employee statistics for government reporting. Advises management in appropriate resolution of employee relations issues. Administers benefits programs such as life, health, dental, insurance, pension plans, vacation, sick leave, leave of absence, and employee assistance. Marketing Associate Designed and created marketing collateral for sales meetings, trade shows and company executives. Managed the in-house advertising program consisting of print and media collateral pieces. Assisted in the complete design and launch of the company's website in 2 months. Created an official company page on Facebook to facilitate interaction with customers. Analyzed ratings and programming features of competitors to evaluate the effectiveness of marketing strategies. Advanced Medical Claims Analyst Mar 2012 to Dec 2013 Company Name － City , State Reviewed medical bills for the accuracy of the treatments, tests, and hospital stays prior to sanctioning the claims. Trained to interpret the codes (ICD-9, CPT) and terminology commonly used in medical billing to fully understand the paperwork that is submitted by healthcare providers. Required to have organizational and analytical skills as well as computer skills, knowledge of medical terminology and procedures, statistics, billing standards, data analysis and laws regarding medical billing. Assistant General Manager Jun 2010 to Dec 2010 Company Name － City , State Performed duties including but not limited to, budgeting and financial management, accounting, human resources, payroll and purchasing. Established and maintained close working relationships with all departments of the hotel to ensure maximum operation, productivity, morale and guest service. Handled daily operations and reported directly to the corporate office. Hired and trained staff on overall objectives and goals with an emphasis on high customer service. Marketing and Advertising, working on public relations with the media, government and local businesses and Chamber of Commerce. Executive Support / Marketing Assistant Jul 2007 to Jun 2010 Company Name － City , State Provided assistance to various department heads - Executive, Marketing, Customer Service, Human Resources. Managed front-end operations to ensure friendly and efficient transactions. Ensured the swift resolution of customer issues to preserve customer loyalty while complying with company policies. Exemplified the second-to-none customer service delivery in all interactions with customers and potential clients. Reservation & Front Office Manager Jun 2004 to Jul 2007 Company Name － City , State Owner/ Partner Dec 2001 to May 2004 Company Name － City , State Price Integrity Coordinator Aug 1999 to Dec 2001 Company Name － City , State Education N/A , Business Administration 1999 Jefferson College － City , State Business Administration Marketing / Advertising High School Diploma , College Prep. studies 1998 Sainte Genevieve Senior High － City , State Awarded American Shrubel Leadership Scholarship to Jefferson College Skills Accounting, ads, advertising, analytical skills, benefits, billing, budgeting, clients, Customer Service, data analysis, delivery, documentation, employee relations, financial management, government relations, Human Resources, insurance, labor relations, layout, Marketing, marketing collateral, medical billing, medical terminology, office, organizational, payroll, performance reviews, personnel, policies, posters, presentations, public relations, purchasing, reporting, statistics, website.\",\n",
       " \"HR SPECIALIST, US HR OPERATIONS Summary Versatile media professional with background in Communications, Marketing, Human Resources and Technology. Experience 09/2015 to Current HR Specialist, US HR Operations Company Name － City , State Managed communication regarding launch of Operations group, policy changes and system outages Designed standard work and job aids to create comprehensive training program for new employees and contractors Audited job postings for old, pending, on-hold and draft positions. Audited union hourly, non-union hourly and salary background checks and drug screens Conducted monthly new hire benefits briefing to new employees across all business units Served as a link between HR Managers and vendors by handling questions and resolving system-related issues Provide real-time process improvement feedback on key metrics and initiatives Successfully re-branded US HR Operations SharePoint site Business Unit project manager for RFI/RFP on Background Check and Drug Screen vendor 01/2014 to 05/2015 IT, Marketing and Communications Co-op Company Name － City , State Posted new articles, changes and updates to corporate SharePoint site including graphics and visual communications. Researched and drafted articles and feature stories to promote company activities and programs. Co-edited and developed content for quarterly published newsletter. Provided communication support for internal and external events. Collaborated with Communication team, media professionals and vendors to determine program needs for print materials, web design and digital communications. Entrusted to lead product, service and software launches for Digital Asset Management tool, Marketing Toolkit website and Executive Tradeshows Calendar. Created presentations for management and executive approval to ensure alignment with corporate guidelines and branding. Maintained the MySikorsky SharePoint site and provided timely solutions to mitigate issues. Created story board and produced video for annual IT All Hands meeting. 10/2012 to 01/2014 Relationship Coordinator/Marketing Specialist Company Name － City , State Partnered with vendor to manage the in-house advertising program consisting of print and media collateral pieces. Coordinated pre-show and post-show activities at trade shows. Managed marketing campaigns to generate new business and to support partner and sales teams. Ordered marketing collateral for meetings, trade shows and advisors. Improved, administered and modified marketing programs to increase product awareness. Assisted in preparing internal promotional publications, managed marketing material inventory and supervised distribution of publications to ensure high quality product output. Coordinated marketing materials including brochures, promotional materials and products. Partnered with graphic designers to develop appropriate materials and branding for brochures. Used tracking and reporting systems for sales leads and appointments. 09/2009 to 10/2012 Assistant Head Teller Company Name － City , State Received an internal audit score of 100 %. Performed daily and monthly audits of ATM machines and tellers. Educated customers on a variety of retail products and available credit options. Consistently met or exceeded quarterly sales goals Promoted products and services to customers while maintaining company brand identity · Implemented programs to achieve and exceed customer and company participation goals Organized company sponsored events on campus resulting in increased brand awareness · Coached peers on the proper use of programs to improve work flow efficiency Utilized product knowledge to successfully sell to and refer clients based on individual needs Promoted marketing the grand opening of new branch locations to strengthen company brand affinity · Organized company sponsored events resulting in increased brand awareness and improved sales · Coached peers on the proper use of programs to increase work flow efficiency Senior Producer - 2014 SHU Media Exchange Company Name － City , State Planned and executed event focusing on Connecticut's creative corridor, growth of industry and opportunities that come with development. A panel of industry professionals addressed topics related to media and hosted a question and answer session for approximately 110 attendees. Following the forum, guests were invited to engage in networking and conversation at a post-event reception. Education 2014 Master of Arts : Corporate Communication & Public Relations Sacred Heart University － City , State 2013 Bachelor of Arts : Relational Communication Western Connecticut State University － City , State Skills Adobe Photoshop, ADP, Asset Management, branding, brochures, content, Customer Care, Final Cut Pro, graphics, graphic, HR, Illustrator, InDesign, Innovation, inventory, Lotus Notes, marketing, marketing materials, marketing material, materials, Microsoft Office, SharePoint, newsletter, presentations, process improvement, Project Management, promotional materials, publications, Quality, real-time, Recruitment, reporting, RFP, sales, stories, Employee Development, video, web design, website, articles\"]"
      ]
     },
     "execution_count": 14,
     "metadata": {},
     "output_type": "execute_result"
    }
   ],
   "source": [
    "resumes[:2].tolist()"
   ]
  },
  {
   "cell_type": "code",
   "execution_count": 7,
   "metadata": {},
   "outputs": [],
   "source": [
    "nlp = spacy.load('en_core_web_trf')\n",
    "\n",
    "labels = ['EXPERIENCE', 'GPA', 'LANGUAGE', 'DIPLOMA', 'SOFT SKILL']"
   ]
  },
  {
   "cell_type": "code",
   "execution_count": 8,
   "metadata": {},
   "outputs": [],
   "source": [
    "annotator = spa.Annotator(labels=labels, model=nlp)"
   ]
  },
  {
   "cell_type": "code",
   "execution_count": 16,
   "metadata": {},
   "outputs": [
    {
     "data": {
      "application/vnd.jupyter.widget-view+json": {
       "model_id": "38bb4777ec744b58b6058b0c4d5ce217",
       "version_major": 2,
       "version_minor": 0
      },
      "text/plain": [
       "HTML(value='-1 examples annotated, 3 examples left')"
      ]
     },
     "metadata": {},
     "output_type": "display_data"
    },
    {
     "data": {
      "application/vnd.jupyter.widget-view+json": {
       "model_id": "bc2a4b1e0407435683d2119823174772",
       "version_major": 2,
       "version_minor": 0
      },
      "text/plain": [
       "Text(value='', description='EXPERIENCE', layout=Layout(width='auto'), placeholder='ent one, ent two, ent three…"
      ]
     },
     "metadata": {},
     "output_type": "display_data"
    },
    {
     "data": {
      "application/vnd.jupyter.widget-view+json": {
       "model_id": "fe42013b365741968a1cd6b2d6c95e34",
       "version_major": 2,
       "version_minor": 0
      },
      "text/plain": [
       "Text(value='', description='GPA', layout=Layout(width='auto'), placeholder='ent one, ent two, ent three')"
      ]
     },
     "metadata": {},
     "output_type": "display_data"
    },
    {
     "data": {
      "application/vnd.jupyter.widget-view+json": {
       "model_id": "2208b6a23cfe4dddbe4195cb9d9ab170",
       "version_major": 2,
       "version_minor": 0
      },
      "text/plain": [
       "Text(value='', description='LANGUAGE', layout=Layout(width='auto'), placeholder='ent one, ent two, ent three')"
      ]
     },
     "metadata": {},
     "output_type": "display_data"
    },
    {
     "data": {
      "application/vnd.jupyter.widget-view+json": {
       "model_id": "fd91f3e4dfaa4ba3923cf8d502429bb5",
       "version_major": 2,
       "version_minor": 0
      },
      "text/plain": [
       "Text(value='', description='DIPLOMA', layout=Layout(width='auto'), placeholder='ent one, ent two, ent three')"
      ]
     },
     "metadata": {},
     "output_type": "display_data"
    },
    {
     "data": {
      "application/vnd.jupyter.widget-view+json": {
       "model_id": "fa7e758922c247b0b44709cef64594bd",
       "version_major": 2,
       "version_minor": 0
      },
      "text/plain": [
       "Text(value='', description='SOFT SKILL', layout=Layout(width='auto'), placeholder='ent one, ent two, ent three…"
      ]
     },
     "metadata": {},
     "output_type": "display_data"
    },
    {
     "data": {
      "application/vnd.jupyter.widget-view+json": {
       "model_id": "7564e9ee09024cd5b1c4133fc288dfb3",
       "version_major": 2,
       "version_minor": 0
      },
      "text/plain": [
       "HBox(children=(Button(button_style='success', description='submit', style=ButtonStyle()), Button(button_style=…"
      ]
     },
     "metadata": {},
     "output_type": "display_data"
    },
    {
     "data": {
      "application/vnd.jupyter.widget-view+json": {
       "model_id": "7b10fe9541c74b2b948725277d2c9926",
       "version_major": 2,
       "version_minor": 0
      },
      "text/plain": [
       "Output()"
      ]
     },
     "metadata": {},
     "output_type": "display_data"
    }
   ],
   "source": [
    "df_labels = annotator.annotate(df=resumes_train, col_text='text', shuffle=True)"
   ]
  },
  {
   "cell_type": "code",
   "execution_count": 21,
   "metadata": {},
   "outputs": [],
   "source": [
    "df_labels.to_json('test.json')"
   ]
  }
 ],
 "metadata": {
  "kernelspec": {
   "display_name": "SROOMARIZER",
   "language": "python",
   "name": "python3"
  },
  "language_info": {
   "codemirror_mode": {
    "name": "ipython",
    "version": 3
   },
   "file_extension": ".py",
   "mimetype": "text/x-python",
   "name": "python",
   "nbconvert_exporter": "python",
   "pygments_lexer": "ipython3",
   "version": "3.10.9"
  }
 },
 "nbformat": 4,
 "nbformat_minor": 2
}
